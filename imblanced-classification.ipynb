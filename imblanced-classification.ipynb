{
 "cells": [
  {
   "cell_type": "code",
   "execution_count": 32,
   "metadata": {},
   "outputs": [],
   "source": [
    "from sklearn.datasets import make_classification\n",
    "from sklearn.model_selection import train_test_split\n",
    "from sklearn.linear_model import LogisticRegression\n",
    "from sklearn.metrics import accuracy_score, precision_score, recall_score, f1_score, roc_auc_score\n",
    "from collections import Counter\n",
    "from imblearn.under_sampling import RandomUnderSampler\n",
    "from imblearn.over_sampling import SMOTE\n",
    "from imblearn.combine import SMOTEENN"
   ]
  },
  {
   "cell_type": "markdown",
   "metadata": {},
   "source": [
    "### Create severe imblanced dataset "
   ]
  },
  {
   "cell_type": "code",
   "execution_count": 8,
   "metadata": {},
   "outputs": [],
   "source": [
    "from sklearn.model_selection import train_test_split\n",
    "\n",
    "\n",
    "X, y = make_classification(n_samples=10000, n_features=2, n_redundant=0, n_clusters_per_class=1, weights=[0.99], flip_y=0)\n",
    "trainX, testX, trainy, testy = train_test_split(X, y, test_size=0.5, stratify=y)\n",
    "model = LogisticRegression(solver='liblinear')\n",
    "model.fit(trainX, trainy)\n",
    "yhat = model.predict(testX)"
   ]
  },
  {
   "cell_type": "markdown",
   "metadata": {},
   "source": [
    "### Model evaluation"
   ]
  },
  {
   "cell_type": "code",
   "execution_count": 14,
   "metadata": {},
   "outputs": [
    {
     "name": "stdout",
     "output_type": "stream",
     "text": [
      "Accuracy: 0.991\n",
      "Precision: 0.700\n",
      "Recall: 0.140\n",
      "F-measure: 0.233\n",
      "ROC AUC score: 0.570\n"
     ]
    }
   ],
   "source": [
    "print('Accuracy: %.3f' % accuracy_score(testy, yhat))\n",
    "print('Precision: %.3f' % precision_score(testy, yhat))\n",
    "print('Recall: %.3f' % recall_score(testy, yhat))\n",
    "print('F-measure: %.3f' % f1_score(testy, yhat))\n",
    "print('ROC AUC score: %.3f' % roc_auc_score(testy, yhat))"
   ]
  },
  {
   "cell_type": "markdown",
   "metadata": {},
   "source": [
    "### Undersampling the Majority Class"
   ]
  },
  {
   "cell_type": "code",
   "execution_count": 23,
   "metadata": {},
   "outputs": [
    {
     "name": "stdout",
     "output_type": "stream",
     "text": [
      "Imbalanced class distribution: Counter({0: 9900, 1: 100})\n",
      "Class distribution after undersampling the majority class: Counter({0: 200, 1: 100})\n"
     ]
    }
   ],
   "source": [
    "# class distribution\n",
    "print(f\"Imbalanced class distribution: {Counter(y)}\")\n",
    "\n",
    "# define undersample strategy\n",
    "undersample = RandomUnderSampler(sampling_strategy=0.5)\n",
    "X_under, y_under = undersample.fit_resample(X, y)\n",
    "\n",
    "print(f\"Class distribution after undersampling the majority class: {Counter(y_under)}\")"
   ]
  },
  {
   "cell_type": "code",
   "execution_count": 28,
   "metadata": {},
   "outputs": [
    {
     "name": "stdout",
     "output_type": "stream",
     "text": [
      "F-measure after undersampling: 0.923\n"
     ]
    }
   ],
   "source": [
    "trainX_under, testX_under, trainy_under, testy_under = train_test_split(X_under, y_under, test_size=0.5, stratify=y_under)\n",
    "model_under = LogisticRegression(solver='liblinear')\n",
    "model_under.fit(trainX_under, trainy_under)\n",
    "yhat_under = model_under.predict(testX_under)\n",
    "print('F-measure after undersampling: %.3f' % f1_score(testy_under, yhat_under))"
   ]
  },
  {
   "cell_type": "markdown",
   "metadata": {},
   "source": [
    "### Oversampling the Minority Class"
   ]
  },
  {
   "cell_type": "code",
   "execution_count": 26,
   "metadata": {},
   "outputs": [
    {
     "name": "stdout",
     "output_type": "stream",
     "text": [
      "Class distribution after oversampling the minority class: Counter({0: 9900, 1: 4950})\n"
     ]
    }
   ],
   "source": [
    "oversample = SMOTE(sampling_strategy=0.5)\n",
    "X_over, y_over = oversample.fit_resample(X, y)\n",
    "print(f\"Class distribution after oversampling the minority class: {Counter(y_over)}\")"
   ]
  },
  {
   "cell_type": "code",
   "execution_count": 29,
   "metadata": {},
   "outputs": [
    {
     "name": "stdout",
     "output_type": "stream",
     "text": [
      "F-measure after oversampling: 0.943\n"
     ]
    }
   ],
   "source": [
    "trainX_over, testX_over, trainy_over, testy_over = train_test_split(X_over, y_over, test_size=0.5, stratify=y_over)\n",
    "model_over = LogisticRegression(solver='liblinear')\n",
    "model_over.fit(trainX_over, trainy_over)\n",
    "yhat_over = model_over.predict(testX_over)\n",
    "print('F-measure after oversampling: %.3f' % f1_score(testy_over, yhat_over))"
   ]
  },
  {
   "cell_type": "markdown",
   "metadata": {},
   "source": [
    "### Combine Oversampling and Undersampling"
   ]
  },
  {
   "cell_type": "code",
   "execution_count": 37,
   "metadata": {},
   "outputs": [
    {
     "name": "stdout",
     "output_type": "stream",
     "text": [
      "Class distribution after Combine: Counter({0: 9853, 1: 4927})\n"
     ]
    }
   ],
   "source": [
    "sample = SMOTEENN(sampling_strategy=0.5)\n",
    "X_combine, y_combine = sample.fit_resample(X, y)\n",
    "print(f\"Class distribution after Combine: {Counter(y_combine)}\")"
   ]
  },
  {
   "cell_type": "code",
   "execution_count": 38,
   "metadata": {},
   "outputs": [
    {
     "name": "stdout",
     "output_type": "stream",
     "text": [
      "F-measure after Combine: 0.946\n"
     ]
    }
   ],
   "source": [
    "trainX_combine, testX_combine, trainy_combine, testy_combine = train_test_split(X_combine, y_combine, test_size=0.5, stratify=y_combine)\n",
    "model_combine = LogisticRegression(solver='liblinear')\n",
    "model_combine.fit(trainX_combine, trainy_combine)\n",
    "yhat_combine = model_combine.predict(testX_combine)\n",
    "print('F-measure after Combine: %.3f' % f1_score(testy_combine, yhat_combine))"
   ]
  },
  {
   "cell_type": "markdown",
   "metadata": {},
   "source": [
    "### Cost-Sensitive Algorithms\n"
   ]
  },
  {
   "cell_type": "code",
   "execution_count": 66,
   "metadata": {},
   "outputs": [
    {
     "name": "stdout",
     "output_type": "stream",
     "text": [
      "F-measure after adding weight to the model: 0.990\n"
     ]
    }
   ],
   "source": [
    "X, y = make_classification(n_samples=10000, n_features=2, n_redundant=0, n_clusters_per_class=1, weights=[0.99], flip_y=0)\n",
    "trainX, testX, trainy, testy = train_test_split(X, y, test_size=0.5, stratify=y)\n",
    "model_sensitive = LogisticRegression(solver='liblinear', class_weight=\"balanced\")\n",
    "model_sensitive.fit(trainX, trainy)\n",
    "yhat_sensitive = model_sensitive.predict(testX)\n",
    "print('F-measure after adding weight to the model: %.3f' % f1_score(testy, yhat_sensitive))"
   ]
  }
 ],
 "metadata": {
  "kernelspec": {
   "display_name": "Python 3.10.7 64-bit",
   "language": "python",
   "name": "python3"
  },
  "language_info": {
   "codemirror_mode": {
    "name": "ipython",
    "version": 3
   },
   "file_extension": ".py",
   "mimetype": "text/x-python",
   "name": "python",
   "nbconvert_exporter": "python",
   "pygments_lexer": "ipython3",
   "version": "3.10.7"
  },
  "orig_nbformat": 4,
  "vscode": {
   "interpreter": {
    "hash": "aee8b7b246df8f9039afb4144a1f6fd8d2ca17a180786b69acc140d282b71a49"
   }
  }
 },
 "nbformat": 4,
 "nbformat_minor": 2
}
